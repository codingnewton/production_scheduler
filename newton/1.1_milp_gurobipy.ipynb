{
 "cells": [
  {
   "cell_type": "code",
   "execution_count": 1,
   "metadata": {},
   "outputs": [],
   "source": [
    "import gurobipy as gp\n",
    "from gurobipy import GRB\n",
    "from gurobipy import multidict\n",
    "from gurobipy import quicksum\n",
    "import matplotlib.pyplot as plt\n",
    "import pandas as pd\n",
    "import numpy as np"
   ]
  },
  {
   "cell_type": "code",
   "execution_count": 2,
   "metadata": {},
   "outputs": [
    {
     "name": "stdout",
     "output_type": "stream",
     "text": [
      "Set parameter Username\n",
      "Academic license - for non-commercial use only - expires 2026-02-10\n"
     ]
    }
   ],
   "source": [
    "# Defining the data\n",
    "\n",
    "model = gp.Model(\"FilmProductionScheduler\")\n",
    "\n",
    "# Example data\n",
    "crews = [\"makeup_artist\", \"lighting\", \"camera\", \"sound\"]\n",
    "tasks = [\"makeup_scene1\", \"lighting_scene1\", \"filming_scene1\", \"sound_scene1\", \"makeup_scene2\", \"lighting_scene2\", \"filming_scene2\", \"sound_scene2\", \"makeup_scene3\", \"lighting_scene3\", \"filming_scene3\", \"sound_scene3\"]\n",
    "scenes = [\"scene1\", \"scene2\", \"scene3\"]\n",
    "time_slots = range(48)  # 48 half-hour slots in a day \n",
    "# Task durations in time slots\n",
    "task_duration = {\"makeup_scene1\": 4, \"lighting_scene1\": 6, \"filming_scene1\": 12, \"sound_scene1\": 4, \"makeup_scene2\": 4, \"lighting_scene2\": 6, \"filming_scene2\": 12, \"sound_scene2\": 4, \"makeup_scene3\": 4, \"lighting_scene3\": 6, \"filming_scene3\": 12, \"sound_scene3\": 4}\n",
    "# Crew costs per time slot\n",
    "crew_cost = {\"makeup_artist\": 100, \"lighting\": 150, \"camera\": 200, \"sound\": 100}\n",
    "# crew_availability = {\n",
    "#     \"makeup_artist\": [(0, 48)],  # Available 0-24 hours\n",
    "#     \"lighting\": [(16, 40)],\n",
    "#     \"camera\": [(12, 44)],\n",
    "#     \"sound\": [(24, 48)]\n",
    "# }\n",
    "# crew_availability = {\n",
    "#     \"makeup_artist\": [(16, 40)],  # Available 0-24 hours\n",
    "#     \"lighting\": [(16, 40)],\n",
    "#     \"camera\": [(16, 40)],\n",
    "#     \"sound\": [(16, 40),(42,44)]\n",
    "# }\n",
    "crew_availability = {\n",
    "    \"makeup_artist\": [(0, 200)],  # Available 0-24 hours\n",
    "    \"lighting\": [(0, 200)],\n",
    "    \"camera\": [(0, 200)],\n",
    "    \"sound\": [(0, 200)]\n",
    "}\n",
    "# crew_availability = {\n",
    "#     \"makeup_artist\": [(0, 48)],  # Available 0-24 hours\n",
    "#     \"lighting\": [(0, 48)],\n",
    "#     \"camera\": [(0, 48)],\n",
    "#     \"sound\": [(0, 48)]\n",
    "# }\n",
    "# Task requirements\n",
    "task_eligibility = {\n",
    "    \"makeup_artist\": [\"makeup_scene1\", \"makeup_scene2\", \"makeup_scene3\"],\n",
    "    \"lighting\": [\"lighting_scene1\", \"lighting_scene2\", \"lighting_scene3\"],\n",
    "    \"camera\": [\"filming_scene1\", \"filming_scene2\", \"filming_scene3\"],\n",
    "    \"sound\": [\"sound_scene1\", \"sound_scene2\", \"sound_scene3\"]\n",
    "}"
   ]
  },
  {
   "cell_type": "code",
   "execution_count": 3,
   "metadata": {},
   "outputs": [],
   "source": [
    "# Create decision variables\n",
    "\n",
    "x = {}  # x[task, crew, start_time] = 1 if task is assigned to crew starting at time\n",
    "for task in tasks:\n",
    "    for crew in crews:\n",
    "        for t in time_slots:\n",
    "            x[task, crew, t] = model.addVar(vtype=GRB.BINARY, name=f\"x_{task}_{crew}_{t}\")\n",
    "            # if t + task_duration[task] <= len(time_slots):  # Task fits within time horizon\n",
    "            #     for start, end in crew_availability[crew]:\n",
    "            #         if start <= t < end and t + task_duration[task] <= end:  # Task fits within crew availability\n",
    "            #             x[task, crew, t] = model.addVar(vtype=GRB.BINARY, name=f\"x_{task}_{crew}_{t}\")\n",
    "assignment = {}"
   ]
  },
  {
   "cell_type": "code",
   "execution_count": 4,
   "metadata": {},
   "outputs": [],
   "source": [
    "# Data processing\n",
    "\n",
    "crew_available_timeslots = {}\n",
    "for crew in crews:\n",
    "    crew_available_timeslots[crew] = []\n",
    "    for availability in crew_availability[crew]:\n",
    "        start, end = availability\n",
    "        crew_available_timeslots[crew].extend(list(range(start+1, end+1)))"
   ]
  },
  {
   "cell_type": "code",
   "execution_count": 5,
   "metadata": {},
   "outputs": [],
   "source": [
    "# Constraints\n",
    "\n",
    "# Each task is assigned to exactly one crew and once only (across all active time slots)\n",
    "# for task in tasks:\n",
    "#     for crew in crews:\n",
    "#         model.addConstr(\n",
    "#             quicksum(x[task, crew, t] for t in time_slots\n",
    "#                     if (task, crew, t) in x) >= task_duration[task], name=f\"task_duration_{task}_{crew}\"\n",
    "#         )\n",
    "for task in tasks:\n",
    "    model.addConstr(\n",
    "        quicksum(x[task, crew, t] for t in time_slots for crew in crews\n",
    "                if (task, crew, t) in x) == task_duration[task], name=f\"task_duration_{task}_{crew}\"\n",
    "    )\n",
    "\n",
    "# Each task is assigned to designated number of crew and once only (across all active time slots)\n",
    "\n",
    "# Each crew is assigned to at most one task at a time\n",
    "for crew in crews:\n",
    "    for t in time_slots:\n",
    "        model.addConstr(\n",
    "            quicksum(x[task, crew, t] for task in tasks \n",
    "                     if (task, crew, t) in x) <= 1, name=f\"crew_{crew}_time_{t}_one_task\"\n",
    "        )\n",
    "\n",
    "# Each crew is assigned to its job only\n",
    "for crew in crews:\n",
    "    for task in tasks:\n",
    "        if task not in task_eligibility[crew]:\n",
    "            model.addConstr(\n",
    "                quicksum(x[task, crew, t] for t in time_slots\n",
    "                         if (task, crew, t) in x) == 0, name=f\"crew_{crew}_task_{task}_not_eligible\"\n",
    "            )\n",
    "\n",
    "# Each crew is assigned to its available time only\n",
    "for crew in crews:\n",
    "    for time in time_slots:\n",
    "        if time not in crew_available_timeslots[crew]:\n",
    "            model.addConstr(\n",
    "                quicksum(x[task, crew, time] for task in tasks\n",
    "                         if (task, crew, time) in x) == 0, name=f\"crew_{crew}_time_{time}_not_available\"\n",
    "            )\n",
    "\n",
    "start = {}\n",
    "for task in tasks:\n",
    "    for crew in crews:\n",
    "        for t in time_slots:\n",
    "            start[task, crew, t] = model.addVar(vtype=GRB.BINARY, name=f\"start_{task}_{crew}_{t}\")\n",
    "for task in tasks:\n",
    "    for crew in crews:\n",
    "        for t in time_slots:\n",
    "            if t + task_duration[task] - 1 <= max(time_slots):  # Ensure within the time horizon\n",
    "                model.addConstr(\n",
    "                    quicksum(x[task, crew, t + k] for k in range(task_duration[task])) ==\n",
    "                    task_duration[task] * start[task, crew, t],\n",
    "                    name=f\"link_start_to_task_{task}_{crew}_{t}\"\n",
    "                )\n",
    "for task in tasks:\n",
    "    for crew in crews:\n",
    "        model.addConstr(\n",
    "            quicksum(start[task, crew, t] for t in time_slots) <= 1,\n",
    "            name=f\"one_start_time_{task}_{crew}\"\n",
    "        )\n",
    "\n",
    "# Wrong definition as it only accounts the starting time slot, when it comes to the second time slots or after of an event, it bugged. \n",
    "# # Continuity constraints: if a task is assigned to a crew, it must be assigned for the entire duration\n",
    "# for task in tasks: \n",
    "#     for crew in crews:\n",
    "#         for t in time_slots:\n",
    "#             if t + task_duration[task] - 1 <= max(time_slots):\n",
    "#                 model.addConstr(\n",
    "#                     quicksum(x[task, crew, t + k] for k in range(task_duration[task])\n",
    "#                              if (task, crew, t) in x) >= task_duration[task] * x[task, crew, t], name=f\"continuity_{task}_{crew}_{t}\"\n",
    "#                 )\n",
    "# for task in tasks:\n",
    "#     for crew in crews:\n",
    "#         for t in time_slots[:-1]:  # Exclude the last time slot\n",
    "#             model.addConstr(\n",
    "#                 x[task, crew, t + 1] <= x[task, crew, t] + quicksum(x[task, crew, t_prime] for t_prime in time_slots if t_prime < t),\n",
    "#                 name=f\"no_fragment_{task}_{crew}_{t}\"\n",
    "#             )\n",
    "\n",
    "            # if (task, crew, t) in x:\n",
    "            #     model.addConstr(\n",
    "            #         quicksum(x[task, crew, t2] for t2 in range(t, min(t + task_duration[task], len(time_slots))))\n",
    "            #         == task_duration[task] * x[task, crew, t], name=f\"continuity_{task}_{crew}_{t}\"\n",
    "            #     )"
   ]
  },
  {
   "cell_type": "code",
   "execution_count": 6,
   "metadata": {},
   "outputs": [],
   "source": [
    "scene_start = {scene: model.addVar(vtype=GRB.INTEGER, name=f\"scene_start_{scene}\") for scene in scenes}\n",
    "scene_end = {scene: model.addVar(vtype=GRB.INTEGER, name=f\"scene_end_{scene}\") for scene in scenes}\n",
    "scene_start_end_relaxation = 0"
   ]
  },
  {
   "cell_type": "code",
   "execution_count": 7,
   "metadata": {},
   "outputs": [],
   "source": [
    "total_cost = gp.quicksum(\n",
    "    x[task, crew, t] * crew_cost[crew]  # Active work cost per crew\n",
    "    for task in tasks\n",
    "    for crew in crews\n",
    "    for t in time_slots\n",
    "    if (task, crew, t) in x\n",
    ")\n",
    "\n",
    "idle_cost = 0.8  # Assume idle time costs 80% of active time\n",
    "\n",
    "# Calculate idle costs for each crew\n",
    "work_start = {}     # Binary variable: 1 if crew starts work at time t\n",
    "work_end = {}       # Binary variable: 1 if crew ends work at time tfor crew in crews:\n",
    "work_period = {}    # Binary variable: 1 if crew is working (including idle time) in time slot t\n",
    "idle = {}           # Binary variable: 1 if crew is idle in time slot t\n",
    "\n",
    "for crew in crews:\n",
    "    for t in time_slots:\n",
    "        work_start[crew, t] = model.addVar(vtype=GRB.BINARY, name=f\"work_start_{crew}_{t}\")\n",
    "        work_end[crew, t] = model.addVar(vtype=GRB.BINARY, name=f\"work_end_{crew}_{t}\")\n",
    "        work_period[crew, t] = model.addVar(vtype=GRB.BINARY, name=f\"work_period_{crew}_{t}\")\n",
    "        idle[crew, t] = model.addVar(vtype=GRB.BINARY, name=f\"idle_{crew}_{t}\")\n",
    "\n",
    "for crew in crews:\n",
    "    for t in time_slots:\n",
    "        if t > min(time_slots):\n",
    "            model.addConstr(\n",
    "                work_start[crew, t] >= quicksum(x[task, crew, t] for task in tasks if (task, crew, t) in x) -\n",
    "                                     quicksum(x[task, crew, t-1] for task in tasks if (task, crew, t-1) in x),\n",
    "                name=f\"work_start_logic_{crew}_{t}\"\n",
    "            )\n",
    "            model.addConstr(\n",
    "                work_period[crew, t] >= work_period[crew, t-1] + work_start[crew, t],\n",
    "                name=f\"work_period_start_{crew}_{t}\"\n",
    "            )\n",
    "\n",
    "        if t < max(time_slots):\n",
    "            model.addConstr(\n",
    "                work_end[crew, t] >= quicksum(x[task, crew, t] for task in tasks if (task, crew, t) in x) -\n",
    "                                   quicksum(x[task, crew, t+1] for task in tasks if (task, crew, t+1) in x),\n",
    "                name=f\"work_end_logic_{crew}_{t}\"\n",
    "            )\n",
    "            model.addConstr(\n",
    "                work_period[crew, t] <= work_period[crew, t+1] + work_end[crew, t],\n",
    "                name=f\"work_period_end_{crew}_{t}\"\n",
    "            )\n",
    "        \n",
    "        model.addConstr(\n",
    "            idle[crew, t] >= work_period[crew, t] - quicksum(x[task, crew, t] for task in tasks if (task, crew, t) in x),\n",
    "                                                             name=f\"idle_logic_{crew}_{t}\"\n",
    "        )\n",
    "\n",
    "total_cost += quicksum(\n",
    "    idle[crew, t] * crew_cost[crew] * idle_cost\n",
    "    for crew in crews\n",
    "    for t in time_slots\n",
    ")\n",
    "\n",
    "# Set the objective function\n",
    "model.setObjective(total_cost, GRB.MINIMIZE)"
   ]
  },
  {
   "cell_type": "code",
   "execution_count": 8,
   "metadata": {},
   "outputs": [
    {
     "name": "stdout",
     "output_type": "stream",
     "text": [
      "Gurobi Optimizer version 10.0.3 build v10.0.3rc0 (mac64[arm])\n",
      "\n",
      "CPU model: Apple M2\n",
      "Thread count: 8 physical cores, 8 logical processors, using up to 8 threads\n",
      "\n",
      "Optimize a model with 3276 rows, 5382 columns and 36688 nonzeros\n",
      "Model fingerprint: 0x43868ddf\n",
      "Variable types: 0 continuous, 5382 integer (5376 binary)\n",
      "Coefficient statistics:\n",
      "  Matrix range     [1e+00, 1e+01]\n",
      "  Objective range  [8e+01, 2e+02]\n",
      "  Bounds range     [1e+00, 1e+00]\n",
      "  RHS range        [1e+00, 1e+01]\n",
      "Presolve removed 2647 rows and 4791 columns\n",
      "Presolve time: 0.00s\n",
      "\n",
      "Explored 0 nodes (0 simplex iterations) in 0.01 seconds (0.01 work units)\n",
      "Thread count was 1 (of 8 available processors)\n",
      "\n",
      "Solution count 0\n",
      "\n",
      "Model is infeasible\n",
      "Best objective -, best bound -, gap -\n"
     ]
    }
   ],
   "source": [
    "model.optimize()"
   ]
  },
  {
   "cell_type": "code",
   "execution_count": 9,
   "metadata": {},
   "outputs": [
    {
     "ename": "AttributeError",
     "evalue": "Unable to retrieve attribute 'x'",
     "output_type": "error",
     "traceback": [
      "\u001b[0;31m---------------------------------------------------------------------------\u001b[0m",
      "\u001b[0;31mAttributeError\u001b[0m                            Traceback (most recent call last)",
      "Cell \u001b[0;32mIn[9], line 4\u001b[0m\n\u001b[1;32m      2\u001b[0m \u001b[38;5;28;01mfor\u001b[39;00m crew \u001b[38;5;129;01min\u001b[39;00m crews:\n\u001b[1;32m      3\u001b[0m     \u001b[38;5;28;01mfor\u001b[39;00m t \u001b[38;5;129;01min\u001b[39;00m time_slots:\n\u001b[0;32m----> 4\u001b[0m         \u001b[38;5;28;01mif\u001b[39;00m (task, crew, t) \u001b[38;5;129;01min\u001b[39;00m x \u001b[38;5;129;01mand\u001b[39;00m x[task, crew, t]\u001b[38;5;241m.\u001b[39mx \u001b[38;5;241m>\u001b[39m \u001b[38;5;241m0.5\u001b[39m:\n\u001b[1;32m      5\u001b[0m             \u001b[38;5;28mprint\u001b[39m(\u001b[38;5;124mf\u001b[39m\u001b[38;5;124m\"\u001b[39m\u001b[38;5;124mTask \u001b[39m\u001b[38;5;132;01m{\u001b[39;00mtask\u001b[38;5;132;01m}\u001b[39;00m\u001b[38;5;124m assigned to \u001b[39m\u001b[38;5;132;01m{\u001b[39;00mcrew\u001b[38;5;132;01m}\u001b[39;00m\u001b[38;5;124m at time \u001b[39m\u001b[38;5;132;01m{\u001b[39;00mt\u001b[38;5;132;01m}\u001b[39;00m\u001b[38;5;124m\"\u001b[39m)\n",
      "File \u001b[0;32msrc/gurobipy/var.pxi:125\u001b[0m, in \u001b[0;36mgurobipy.Var.__getattr__\u001b[0;34m()\u001b[0m\n",
      "File \u001b[0;32msrc/gurobipy/var.pxi:153\u001b[0m, in \u001b[0;36mgurobipy.Var.getAttr\u001b[0;34m()\u001b[0m\n",
      "File \u001b[0;32msrc/gurobipy/attrutil.pxi:100\u001b[0m, in \u001b[0;36mgurobipy.__getattr\u001b[0;34m()\u001b[0m\n",
      "\u001b[0;31mAttributeError\u001b[0m: Unable to retrieve attribute 'x'"
     ]
    }
   ],
   "source": [
    "for task in tasks:\n",
    "        for crew in crews:\n",
    "            for t in time_slots:\n",
    "                if (task, crew, t) in x and x[task, crew, t].x > 0.5:\n",
    "                    print(f\"Task {task} assigned to {crew} at time {t}\")\n",
    "                    "
   ]
  },
  {
   "cell_type": "code",
   "execution_count": null,
   "metadata": {},
   "outputs": [],
   "source": [
    "import plotly.graph_objects as go\n",
    "import pandas as pd\n",
    "import numpy as np\n",
    "\n",
    "def visualize_schedule_plotly(model, x, tasks, crews, time_slots, task_duration):\n",
    "    \"\"\"\n",
    "    Visualize the film production schedule based on the optimization results using Plotly.\n",
    "    \n",
    "    Parameters:\n",
    "    model - Gurobi model\n",
    "    x - Dictionary of decision variables\n",
    "    tasks - List of tasks\n",
    "    crews - List of crews\n",
    "    time_slots - Range of time slots\n",
    "    task_duration - Dictionary mapping tasks to their durations\n",
    "    \"\"\"\n",
    "    # Extract schedule data from the optimization solution\n",
    "    schedule_data = []\n",
    "    \n",
    "    # Group consecutive time slots for the same task and crew\n",
    "    task_assignments = {}\n",
    "    \n",
    "    # First, collect all assigned time slots\n",
    "    for task in tasks:\n",
    "        for crew in crews:\n",
    "            for t in time_slots:\n",
    "                if (task, crew, t) in x and x[task, crew, t].x > 0.5:\n",
    "                    key = (task, crew)\n",
    "                    if key not in task_assignments:\n",
    "                        task_assignments[key] = []\n",
    "                    task_assignments[key].append(t)\n",
    "    \n",
    "    # Now, group consecutive time slots\n",
    "    for (task, crew), slots in task_assignments.items():\n",
    "        sorted_slots = sorted(slots)\n",
    "        current_start = sorted_slots[0]\n",
    "        current_duration = 1\n",
    "        \n",
    "        for i in range(1, len(sorted_slots)):\n",
    "            if sorted_slots[i] == sorted_slots[i-1] + 1:\n",
    "                # Consecutive time slot\n",
    "                current_duration += 1\n",
    "            else:\n",
    "                # Non-consecutive, save the current segment and start a new one\n",
    "                scene_number = task.split('_')[-1]\n",
    "                scene = f\"scene{scene_number.replace('scene', '')}\"\n",
    "                task_type = task.split('_')[0].capitalize()\n",
    "                \n",
    "                schedule_data.append({\n",
    "                    \"Crew\": crew,\n",
    "                    \"Task\": task,\n",
    "                    \"TaskType\": task_type,\n",
    "                    \"Start\": current_start,\n",
    "                    \"Duration\": current_duration,\n",
    "                    \"End\": current_start + current_duration,\n",
    "                    \"Scene\": scene\n",
    "                })\n",
    "                current_start = sorted_slots[i]\n",
    "                current_duration = 1\n",
    "        \n",
    "        # Add the last segment\n",
    "        scene_number = task.split('_')[-1]\n",
    "        scene = f\"scene{scene_number.replace('scene', '')}\"\n",
    "        task_type = task.split('_')[0].capitalize()\n",
    "        \n",
    "        schedule_data.append({\n",
    "            \"Crew\": crew,\n",
    "            \"Task\": task,\n",
    "            \"TaskType\": task_type,\n",
    "            \"Start\": current_start,\n",
    "            \"Duration\": current_duration,\n",
    "            \"End\": current_start + current_duration,\n",
    "            \"Scene\": scene\n",
    "        })\n",
    "    \n",
    "    # Convert to DataFrame\n",
    "    df = pd.DataFrame(schedule_data)\n",
    "    \n",
    "    # Define crew names for display\n",
    "    crew_display_names = {\n",
    "        \"makeup_artist\": \"Makeup Artist\",\n",
    "        \"lighting\": \"Lighting\",\n",
    "        \"camera\": \"Camera\",\n",
    "        \"sound\": \"Sound\"\n",
    "    }\n",
    "    \n",
    "    # Add display names to dataframe\n",
    "    df[\"CrewDisplay\"] = df[\"Crew\"].apply(lambda x: crew_display_names.get(x, x))\n",
    "    \n",
    "    # Define colors for each scene\n",
    "    scene_colors = {\n",
    "        \"scene1\": \"#4e79a7\",  # blue\n",
    "        \"scene2\": \"#f28e2c\",  # orange\n",
    "        \"scene3\": \"#e15759\"   # red\n",
    "    }\n",
    "    \n",
    "    # Function to convert time slots to readable time\n",
    "    def format_time(time_slot):\n",
    "        hours = time_slot // 2\n",
    "        minutes = (time_slot % 2) * 30\n",
    "        am_pm = \"AM\" if hours < 12 else \"PM\"\n",
    "        display_hour = hours % 12\n",
    "        if display_hour == 0:\n",
    "            display_hour = 12\n",
    "        return f\"{display_hour}:{minutes:02d} {am_pm}\"\n",
    "    \n",
    "    # Add formatted start and end times\n",
    "    df[\"StartTime\"] = df[\"Start\"].apply(format_time)\n",
    "    df[\"EndTime\"] = df[\"End\"].apply(format_time)\n",
    "    \n",
    "    # Create hover text\n",
    "    df[\"HoverText\"] = df.apply(\n",
    "        lambda row: f\"<b>{row['TaskType']} ({row['Scene'].replace('scene', 'Scene ')})</b><br>\" +\n",
    "                   f\"Crew: {row['CrewDisplay']}<br>\" +\n",
    "                   f\"Time: {row['StartTime']} - {row['EndTime']}<br>\" +\n",
    "                   f\"Duration: {row['Duration'] * 30} minutes\",\n",
    "        axis=1\n",
    "    )\n",
    "    \n",
    "    # Sort the crews in a specific order\n",
    "    crew_order = [\"makeup_artist\", \"lighting\", \"camera\", \"sound\"]\n",
    "    df[\"CrewOrder\"] = df[\"Crew\"].apply(lambda x: crew_order.index(x) if x in crew_order else 999)\n",
    "    df = df.sort_values(\"CrewOrder\")\n",
    "    \n",
    "    # Create figure\n",
    "    fig = go.Figure()\n",
    "    \n",
    "    # Add AM/PM background areas\n",
    "    fig.add_shape(\n",
    "        type=\"rect\",\n",
    "        x0=0, y0=-0.5,\n",
    "        x1=24, y1=len(crew_order) - 0.5,\n",
    "        fillcolor=\"rgba(230, 230, 250, 0.3)\",\n",
    "        line=dict(width=0),\n",
    "        layer=\"below\"\n",
    "    )\n",
    "    fig.add_shape(\n",
    "        type=\"rect\",\n",
    "        x0=24, y0=-0.5,\n",
    "        x1=48, y1=len(crew_order) - 0.5,\n",
    "        fillcolor=\"rgba(250, 240, 230, 0.3)\",\n",
    "        line=dict(width=0),\n",
    "        layer=\"below\"\n",
    "    )\n",
    "    \n",
    "    # Add tasks for each scene\n",
    "    for scene in [\"scene1\", \"scene2\", \"scene3\"]:\n",
    "        scene_df = df[df[\"Scene\"] == scene]\n",
    "        \n",
    "        fig.add_trace(go.Bar(\n",
    "            x=scene_df[\"Duration\"],\n",
    "            y=scene_df[\"CrewDisplay\"],\n",
    "            orientation='h',\n",
    "            base=scene_df[\"Start\"],\n",
    "            name=scene.replace(\"scene\", \"Scene \"),\n",
    "            marker=dict(color=scene_colors[scene]),\n",
    "            hovertext=scene_df[\"HoverText\"],\n",
    "            hoverinfo=\"text\",\n",
    "            text=scene_df[\"TaskType\"],\n",
    "            textposition=\"inside\",\n",
    "            insidetextanchor=\"middle\",\n",
    "            textfont=dict(color=\"white\", size=12),\n",
    "            width=0.6\n",
    "        ))\n",
    "    \n",
    "    # Customize layout\n",
    "    fig.update_layout(\n",
    "        title={\n",
    "            'text': 'Film Production Schedule',\n",
    "            'y': 0.98,\n",
    "            'x': 0.5,\n",
    "            'xanchor': 'center',\n",
    "            'yanchor': 'top',\n",
    "            'font': dict(size=20, color='black')\n",
    "        },\n",
    "        xaxis=dict(\n",
    "            title=\"Time\",\n",
    "            tickmode=\"array\",\n",
    "            tickvals=list(range(0, 49, 4)),\n",
    "            ticktext=[format_time(t) for t in range(0, 49, 4)],\n",
    "            range=[0, 48],\n",
    "            gridcolor='lightgray',\n",
    "            gridwidth=1,\n",
    "            showgrid=True\n",
    "        ),\n",
    "        yaxis=dict(\n",
    "            title=\"Crew\",\n",
    "            categoryorder=\"array\",\n",
    "            categoryarray=[crew_display_names[crew] for crew in crew_order]\n",
    "        ),\n",
    "        barmode='overlay',\n",
    "        legend=dict(\n",
    "            orientation=\"h\",\n",
    "            yanchor=\"bottom\",\n",
    "            y=1.02,\n",
    "            xanchor=\"center\",\n",
    "            x=0.5,\n",
    "            bgcolor='rgba(255, 255, 255, 0.8)',\n",
    "            bordercolor='rgba(0, 0, 0, 0.2)',\n",
    "            borderwidth=1\n",
    "        ),\n",
    "        plot_bgcolor='white',\n",
    "        height=600,\n",
    "        width=1200,\n",
    "        margin=dict(l=100, r=50, t=100, b=100)\n",
    "    )\n",
    "    \n",
    "    # Add annotations for AM/PM periods\n",
    "    fig.add_annotation(\n",
    "        x=12, y=-1,\n",
    "        text=\"Morning (12AM - 12PM)\",\n",
    "        showarrow=False,\n",
    "        font=dict(size=14),\n",
    "        xanchor=\"center\"\n",
    "    )\n",
    "    \n",
    "    fig.add_annotation(\n",
    "        x=36, y=-1,\n",
    "        text=\"Evening (12PM - 12AM)\",\n",
    "        showarrow=False,\n",
    "        font=dict(size=14),\n",
    "        xanchor=\"center\"\n",
    "    )\n",
    "    \n",
    "    # Add vertical line at 12pm\n",
    "    fig.add_shape(\n",
    "        type=\"line\",\n",
    "        x0=24, y0=-0.5,\n",
    "        x1=24, y1=len(crew_order) - 0.5,\n",
    "        line=dict(color=\"black\", width=1.5, dash=\"dash\")\n",
    "    )\n",
    "    \n",
    "    # Add horizontal grid lines\n",
    "    for i in range(len(crew_order)):\n",
    "        if i < len(crew_order) - 1:  # Don't add line after the last crew\n",
    "            fig.add_shape(\n",
    "                type=\"line\",\n",
    "                x0=0, y0=i + 0.5,\n",
    "                x1=48, y1=i + 0.5,\n",
    "                line=dict(color=\"lightgray\", width=1)\n",
    "            )\n",
    "    \n",
    "    # Show figure\n",
    "    fig.show()\n",
    "    \n",
    "    return df\n",
    "\n",
    "# Example usage:\n",
    "# schedule_df = visualize_schedule_plotly(model, x, tasks, crews, time_slots, task_duration)"
   ]
  },
  {
   "cell_type": "code",
   "execution_count": null,
   "metadata": {},
   "outputs": [
    {
     "data": {
      "application/vnd.plotly.v1+json": {
       "config": {
        "plotlyServerURL": "https://plot.ly"
       },
       "data": [
        {
         "base": [
          42,
          46,
          37,
          43,
          12,
          18,
          22,
          25,
          27,
          35,
          40,
          44,
          47,
          40,
          44
         ],
         "hoverinfo": "text",
         "hovertext": [
          "<b>Makeup (Scene 1)</b><br>Crew: Makeup Artist<br>Time: 9:00 PM - 10:00 PM<br>Duration: 60 minutes",
          "<b>Makeup (Scene 1)</b><br>Crew: Makeup Artist<br>Time: 11:00 PM - 12:00 PM<br>Duration: 60 minutes",
          "<b>Lighting (Scene 1)</b><br>Crew: Lighting<br>Time: 6:30 PM - 9:00 PM<br>Duration: 150 minutes",
          "<b>Lighting (Scene 1)</b><br>Crew: Lighting<br>Time: 9:30 PM - 10:00 PM<br>Duration: 30 minutes",
          "<b>Filming (Scene 1)</b><br>Crew: Camera<br>Time: 6:00 AM - 6:30 AM<br>Duration: 30 minutes",
          "<b>Filming (Scene 1)</b><br>Crew: Camera<br>Time: 9:00 AM - 9:30 AM<br>Duration: 30 minutes",
          "<b>Filming (Scene 1)</b><br>Crew: Camera<br>Time: 11:00 AM - 11:30 AM<br>Duration: 30 minutes",
          "<b>Filming (Scene 1)</b><br>Crew: Camera<br>Time: 12:30 PM - 1:00 PM<br>Duration: 30 minutes",
          "<b>Filming (Scene 1)</b><br>Crew: Camera<br>Time: 1:30 PM - 3:00 PM<br>Duration: 90 minutes",
          "<b>Filming (Scene 1)</b><br>Crew: Camera<br>Time: 5:30 PM - 6:00 PM<br>Duration: 30 minutes",
          "<b>Filming (Scene 1)</b><br>Crew: Camera<br>Time: 8:00 PM - 9:00 PM<br>Duration: 60 minutes",
          "<b>Filming (Scene 1)</b><br>Crew: Camera<br>Time: 10:00 PM - 10:30 PM<br>Duration: 30 minutes",
          "<b>Filming (Scene 1)</b><br>Crew: Camera<br>Time: 11:30 PM - 12:00 PM<br>Duration: 30 minutes",
          "<b>Sound (Scene 1)</b><br>Crew: Sound<br>Time: 8:00 PM - 9:00 PM<br>Duration: 60 minutes",
          "<b>Sound (Scene 1)</b><br>Crew: Sound<br>Time: 10:00 PM - 11:00 PM<br>Duration: 60 minutes"
         ],
         "insidetextanchor": "middle",
         "marker": {
          "color": "#4e79a7"
         },
         "name": "Scene 1",
         "orientation": "h",
         "text": [
          "Makeup",
          "Makeup",
          "Lighting",
          "Lighting",
          "Filming",
          "Filming",
          "Filming",
          "Filming",
          "Filming",
          "Filming",
          "Filming",
          "Filming",
          "Filming",
          "Sound",
          "Sound"
         ],
         "textfont": {
          "color": "white",
          "size": 12
         },
         "textposition": "inside",
         "type": "bar",
         "width": 0.6,
         "x": [
          2,
          2,
          5,
          1,
          1,
          1,
          1,
          1,
          3,
          1,
          2,
          1,
          1,
          2,
          2
         ],
         "y": [
          "Makeup Artist",
          "Makeup Artist",
          "Lighting",
          "Lighting",
          "Camera",
          "Camera",
          "Camera",
          "Camera",
          "Camera",
          "Camera",
          "Camera",
          "Camera",
          "Camera",
          "Sound",
          "Sound"
         ]
        },
        {
         "base": [
          44,
          40,
          44,
          34,
          43,
          45,
          37,
          34,
          19,
          26,
          30,
          13,
          15,
          23,
          36
         ],
         "hoverinfo": "text",
         "hovertext": [
          "<b>Makeup (Scene 2)</b><br>Crew: Makeup Artist<br>Time: 10:00 PM - 11:00 PM<br>Duration: 60 minutes",
          "<b>Makeup (Scene 2)</b><br>Crew: Makeup Artist<br>Time: 8:00 PM - 9:00 PM<br>Duration: 60 minutes",
          "<b>Lighting (Scene 2)</b><br>Crew: Lighting<br>Time: 10:00 PM - 11:30 PM<br>Duration: 90 minutes",
          "<b>Lighting (Scene 2)</b><br>Crew: Lighting<br>Time: 5:00 PM - 6:30 PM<br>Duration: 90 minutes",
          "<b>Filming (Scene 2)</b><br>Crew: Camera<br>Time: 9:30 PM - 10:00 PM<br>Duration: 30 minutes",
          "<b>Filming (Scene 2)</b><br>Crew: Camera<br>Time: 10:30 PM - 11:30 PM<br>Duration: 60 minutes",
          "<b>Filming (Scene 2)</b><br>Crew: Camera<br>Time: 6:30 PM - 7:30 PM<br>Duration: 60 minutes",
          "<b>Filming (Scene 2)</b><br>Crew: Camera<br>Time: 5:00 PM - 5:30 PM<br>Duration: 30 minutes",
          "<b>Filming (Scene 2)</b><br>Crew: Camera<br>Time: 9:30 AM - 10:00 AM<br>Duration: 30 minutes",
          "<b>Filming (Scene 2)</b><br>Crew: Camera<br>Time: 1:00 PM - 1:30 PM<br>Duration: 30 minutes",
          "<b>Filming (Scene 2)</b><br>Crew: Camera<br>Time: 3:00 PM - 3:30 PM<br>Duration: 30 minutes",
          "<b>Filming (Scene 2)</b><br>Crew: Camera<br>Time: 6:30 AM - 7:00 AM<br>Duration: 30 minutes",
          "<b>Filming (Scene 2)</b><br>Crew: Camera<br>Time: 7:30 AM - 8:00 AM<br>Duration: 30 minutes",
          "<b>Filming (Scene 2)</b><br>Crew: Camera<br>Time: 11:30 AM - 12:00 PM<br>Duration: 30 minutes",
          "<b>Sound (Scene 2)</b><br>Crew: Sound<br>Time: 6:00 PM - 8:00 PM<br>Duration: 120 minutes"
         ],
         "insidetextanchor": "middle",
         "marker": {
          "color": "#f28e2c"
         },
         "name": "Scene 2",
         "orientation": "h",
         "text": [
          "Makeup",
          "Makeup",
          "Lighting",
          "Lighting",
          "Filming",
          "Filming",
          "Filming",
          "Filming",
          "Filming",
          "Filming",
          "Filming",
          "Filming",
          "Filming",
          "Filming",
          "Sound"
         ],
         "textfont": {
          "color": "white",
          "size": 12
         },
         "textposition": "inside",
         "type": "bar",
         "width": 0.6,
         "x": [
          2,
          2,
          3,
          3,
          1,
          2,
          2,
          1,
          1,
          1,
          1,
          1,
          1,
          1,
          4
         ],
         "y": [
          "Makeup Artist",
          "Makeup Artist",
          "Lighting",
          "Lighting",
          "Camera",
          "Camera",
          "Camera",
          "Camera",
          "Camera",
          "Camera",
          "Camera",
          "Camera",
          "Camera",
          "Camera",
          "Sound"
         ]
        },
        {
         "base": [
          36,
          30,
          47,
          42,
          14,
          16,
          20,
          24,
          31,
          36,
          39,
          42,
          42,
          46
         ],
         "hoverinfo": "text",
         "hovertext": [
          "<b>Makeup (Scene 3)</b><br>Crew: Makeup Artist<br>Time: 6:00 PM - 8:00 PM<br>Duration: 120 minutes",
          "<b>Lighting (Scene 3)</b><br>Crew: Lighting<br>Time: 3:00 PM - 5:00 PM<br>Duration: 120 minutes",
          "<b>Lighting (Scene 3)</b><br>Crew: Lighting<br>Time: 11:30 PM - 12:00 PM<br>Duration: 30 minutes",
          "<b>Lighting (Scene 3)</b><br>Crew: Lighting<br>Time: 9:00 PM - 9:30 PM<br>Duration: 30 minutes",
          "<b>Filming (Scene 3)</b><br>Crew: Camera<br>Time: 7:00 AM - 7:30 AM<br>Duration: 30 minutes",
          "<b>Filming (Scene 3)</b><br>Crew: Camera<br>Time: 8:00 AM - 9:00 AM<br>Duration: 60 minutes",
          "<b>Filming (Scene 3)</b><br>Crew: Camera<br>Time: 10:00 AM - 11:00 AM<br>Duration: 60 minutes",
          "<b>Filming (Scene 3)</b><br>Crew: Camera<br>Time: 12:00 PM - 12:30 PM<br>Duration: 30 minutes",
          "<b>Filming (Scene 3)</b><br>Crew: Camera<br>Time: 3:30 PM - 5:00 PM<br>Duration: 90 minutes",
          "<b>Filming (Scene 3)</b><br>Crew: Camera<br>Time: 6:00 PM - 6:30 PM<br>Duration: 30 minutes",
          "<b>Filming (Scene 3)</b><br>Crew: Camera<br>Time: 7:30 PM - 8:00 PM<br>Duration: 30 minutes",
          "<b>Filming (Scene 3)</b><br>Crew: Camera<br>Time: 9:00 PM - 9:30 PM<br>Duration: 30 minutes",
          "<b>Sound (Scene 3)</b><br>Crew: Sound<br>Time: 9:00 PM - 10:00 PM<br>Duration: 60 minutes",
          "<b>Sound (Scene 3)</b><br>Crew: Sound<br>Time: 11:00 PM - 12:00 PM<br>Duration: 60 minutes"
         ],
         "insidetextanchor": "middle",
         "marker": {
          "color": "#e15759"
         },
         "name": "Scene 3",
         "orientation": "h",
         "text": [
          "Makeup",
          "Lighting",
          "Lighting",
          "Lighting",
          "Filming",
          "Filming",
          "Filming",
          "Filming",
          "Filming",
          "Filming",
          "Filming",
          "Filming",
          "Sound",
          "Sound"
         ],
         "textfont": {
          "color": "white",
          "size": 12
         },
         "textposition": "inside",
         "type": "bar",
         "width": 0.6,
         "x": [
          4,
          4,
          1,
          1,
          1,
          2,
          2,
          1,
          3,
          1,
          1,
          1,
          2,
          2
         ],
         "y": [
          "Makeup Artist",
          "Lighting",
          "Lighting",
          "Lighting",
          "Camera",
          "Camera",
          "Camera",
          "Camera",
          "Camera",
          "Camera",
          "Camera",
          "Camera",
          "Sound",
          "Sound"
         ]
        }
       ],
       "layout": {
        "annotations": [
         {
          "font": {
           "size": 14
          },
          "showarrow": false,
          "text": "Morning (12AM - 12PM)",
          "x": 12,
          "xanchor": "center",
          "y": -1
         },
         {
          "font": {
           "size": 14
          },
          "showarrow": false,
          "text": "Evening (12PM - 12AM)",
          "x": 36,
          "xanchor": "center",
          "y": -1
         }
        ],
        "barmode": "overlay",
        "height": 600,
        "legend": {
         "bgcolor": "rgba(255, 255, 255, 0.8)",
         "bordercolor": "rgba(0, 0, 0, 0.2)",
         "borderwidth": 1,
         "orientation": "h",
         "x": 0.5,
         "xanchor": "center",
         "y": 1.02,
         "yanchor": "bottom"
        },
        "margin": {
         "b": 100,
         "l": 100,
         "r": 50,
         "t": 100
        },
        "plot_bgcolor": "white",
        "shapes": [
         {
          "fillcolor": "rgba(230, 230, 250, 0.3)",
          "layer": "below",
          "line": {
           "width": 0
          },
          "type": "rect",
          "x0": 0,
          "x1": 24,
          "y0": -0.5,
          "y1": 3.5
         },
         {
          "fillcolor": "rgba(250, 240, 230, 0.3)",
          "layer": "below",
          "line": {
           "width": 0
          },
          "type": "rect",
          "x0": 24,
          "x1": 48,
          "y0": -0.5,
          "y1": 3.5
         },
         {
          "line": {
           "color": "black",
           "dash": "dash",
           "width": 1.5
          },
          "type": "line",
          "x0": 24,
          "x1": 24,
          "y0": -0.5,
          "y1": 3.5
         },
         {
          "line": {
           "color": "lightgray",
           "width": 1
          },
          "type": "line",
          "x0": 0,
          "x1": 48,
          "y0": 0.5,
          "y1": 0.5
         },
         {
          "line": {
           "color": "lightgray",
           "width": 1
          },
          "type": "line",
          "x0": 0,
          "x1": 48,
          "y0": 1.5,
          "y1": 1.5
         },
         {
          "line": {
           "color": "lightgray",
           "width": 1
          },
          "type": "line",
          "x0": 0,
          "x1": 48,
          "y0": 2.5,
          "y1": 2.5
         }
        ],
        "template": {
         "data": {
          "bar": [
           {
            "error_x": {
             "color": "#2a3f5f"
            },
            "error_y": {
             "color": "#2a3f5f"
            },
            "marker": {
             "line": {
              "color": "#E5ECF6",
              "width": 0.5
             },
             "pattern": {
              "fillmode": "overlay",
              "size": 10,
              "solidity": 0.2
             }
            },
            "type": "bar"
           }
          ],
          "barpolar": [
           {
            "marker": {
             "line": {
              "color": "#E5ECF6",
              "width": 0.5
             },
             "pattern": {
              "fillmode": "overlay",
              "size": 10,
              "solidity": 0.2
             }
            },
            "type": "barpolar"
           }
          ],
          "carpet": [
           {
            "aaxis": {
             "endlinecolor": "#2a3f5f",
             "gridcolor": "white",
             "linecolor": "white",
             "minorgridcolor": "white",
             "startlinecolor": "#2a3f5f"
            },
            "baxis": {
             "endlinecolor": "#2a3f5f",
             "gridcolor": "white",
             "linecolor": "white",
             "minorgridcolor": "white",
             "startlinecolor": "#2a3f5f"
            },
            "type": "carpet"
           }
          ],
          "choropleth": [
           {
            "colorbar": {
             "outlinewidth": 0,
             "ticks": ""
            },
            "type": "choropleth"
           }
          ],
          "contour": [
           {
            "colorbar": {
             "outlinewidth": 0,
             "ticks": ""
            },
            "colorscale": [
             [
              0,
              "#0d0887"
             ],
             [
              0.1111111111111111,
              "#46039f"
             ],
             [
              0.2222222222222222,
              "#7201a8"
             ],
             [
              0.3333333333333333,
              "#9c179e"
             ],
             [
              0.4444444444444444,
              "#bd3786"
             ],
             [
              0.5555555555555556,
              "#d8576b"
             ],
             [
              0.6666666666666666,
              "#ed7953"
             ],
             [
              0.7777777777777778,
              "#fb9f3a"
             ],
             [
              0.8888888888888888,
              "#fdca26"
             ],
             [
              1,
              "#f0f921"
             ]
            ],
            "type": "contour"
           }
          ],
          "contourcarpet": [
           {
            "colorbar": {
             "outlinewidth": 0,
             "ticks": ""
            },
            "type": "contourcarpet"
           }
          ],
          "heatmap": [
           {
            "colorbar": {
             "outlinewidth": 0,
             "ticks": ""
            },
            "colorscale": [
             [
              0,
              "#0d0887"
             ],
             [
              0.1111111111111111,
              "#46039f"
             ],
             [
              0.2222222222222222,
              "#7201a8"
             ],
             [
              0.3333333333333333,
              "#9c179e"
             ],
             [
              0.4444444444444444,
              "#bd3786"
             ],
             [
              0.5555555555555556,
              "#d8576b"
             ],
             [
              0.6666666666666666,
              "#ed7953"
             ],
             [
              0.7777777777777778,
              "#fb9f3a"
             ],
             [
              0.8888888888888888,
              "#fdca26"
             ],
             [
              1,
              "#f0f921"
             ]
            ],
            "type": "heatmap"
           }
          ],
          "heatmapgl": [
           {
            "colorbar": {
             "outlinewidth": 0,
             "ticks": ""
            },
            "colorscale": [
             [
              0,
              "#0d0887"
             ],
             [
              0.1111111111111111,
              "#46039f"
             ],
             [
              0.2222222222222222,
              "#7201a8"
             ],
             [
              0.3333333333333333,
              "#9c179e"
             ],
             [
              0.4444444444444444,
              "#bd3786"
             ],
             [
              0.5555555555555556,
              "#d8576b"
             ],
             [
              0.6666666666666666,
              "#ed7953"
             ],
             [
              0.7777777777777778,
              "#fb9f3a"
             ],
             [
              0.8888888888888888,
              "#fdca26"
             ],
             [
              1,
              "#f0f921"
             ]
            ],
            "type": "heatmapgl"
           }
          ],
          "histogram": [
           {
            "marker": {
             "pattern": {
              "fillmode": "overlay",
              "size": 10,
              "solidity": 0.2
             }
            },
            "type": "histogram"
           }
          ],
          "histogram2d": [
           {
            "colorbar": {
             "outlinewidth": 0,
             "ticks": ""
            },
            "colorscale": [
             [
              0,
              "#0d0887"
             ],
             [
              0.1111111111111111,
              "#46039f"
             ],
             [
              0.2222222222222222,
              "#7201a8"
             ],
             [
              0.3333333333333333,
              "#9c179e"
             ],
             [
              0.4444444444444444,
              "#bd3786"
             ],
             [
              0.5555555555555556,
              "#d8576b"
             ],
             [
              0.6666666666666666,
              "#ed7953"
             ],
             [
              0.7777777777777778,
              "#fb9f3a"
             ],
             [
              0.8888888888888888,
              "#fdca26"
             ],
             [
              1,
              "#f0f921"
             ]
            ],
            "type": "histogram2d"
           }
          ],
          "histogram2dcontour": [
           {
            "colorbar": {
             "outlinewidth": 0,
             "ticks": ""
            },
            "colorscale": [
             [
              0,
              "#0d0887"
             ],
             [
              0.1111111111111111,
              "#46039f"
             ],
             [
              0.2222222222222222,
              "#7201a8"
             ],
             [
              0.3333333333333333,
              "#9c179e"
             ],
             [
              0.4444444444444444,
              "#bd3786"
             ],
             [
              0.5555555555555556,
              "#d8576b"
             ],
             [
              0.6666666666666666,
              "#ed7953"
             ],
             [
              0.7777777777777778,
              "#fb9f3a"
             ],
             [
              0.8888888888888888,
              "#fdca26"
             ],
             [
              1,
              "#f0f921"
             ]
            ],
            "type": "histogram2dcontour"
           }
          ],
          "mesh3d": [
           {
            "colorbar": {
             "outlinewidth": 0,
             "ticks": ""
            },
            "type": "mesh3d"
           }
          ],
          "parcoords": [
           {
            "line": {
             "colorbar": {
              "outlinewidth": 0,
              "ticks": ""
             }
            },
            "type": "parcoords"
           }
          ],
          "pie": [
           {
            "automargin": true,
            "type": "pie"
           }
          ],
          "scatter": [
           {
            "fillpattern": {
             "fillmode": "overlay",
             "size": 10,
             "solidity": 0.2
            },
            "type": "scatter"
           }
          ],
          "scatter3d": [
           {
            "line": {
             "colorbar": {
              "outlinewidth": 0,
              "ticks": ""
             }
            },
            "marker": {
             "colorbar": {
              "outlinewidth": 0,
              "ticks": ""
             }
            },
            "type": "scatter3d"
           }
          ],
          "scattercarpet": [
           {
            "marker": {
             "colorbar": {
              "outlinewidth": 0,
              "ticks": ""
             }
            },
            "type": "scattercarpet"
           }
          ],
          "scattergeo": [
           {
            "marker": {
             "colorbar": {
              "outlinewidth": 0,
              "ticks": ""
             }
            },
            "type": "scattergeo"
           }
          ],
          "scattergl": [
           {
            "marker": {
             "colorbar": {
              "outlinewidth": 0,
              "ticks": ""
             }
            },
            "type": "scattergl"
           }
          ],
          "scattermapbox": [
           {
            "marker": {
             "colorbar": {
              "outlinewidth": 0,
              "ticks": ""
             }
            },
            "type": "scattermapbox"
           }
          ],
          "scatterpolar": [
           {
            "marker": {
             "colorbar": {
              "outlinewidth": 0,
              "ticks": ""
             }
            },
            "type": "scatterpolar"
           }
          ],
          "scatterpolargl": [
           {
            "marker": {
             "colorbar": {
              "outlinewidth": 0,
              "ticks": ""
             }
            },
            "type": "scatterpolargl"
           }
          ],
          "scatterternary": [
           {
            "marker": {
             "colorbar": {
              "outlinewidth": 0,
              "ticks": ""
             }
            },
            "type": "scatterternary"
           }
          ],
          "surface": [
           {
            "colorbar": {
             "outlinewidth": 0,
             "ticks": ""
            },
            "colorscale": [
             [
              0,
              "#0d0887"
             ],
             [
              0.1111111111111111,
              "#46039f"
             ],
             [
              0.2222222222222222,
              "#7201a8"
             ],
             [
              0.3333333333333333,
              "#9c179e"
             ],
             [
              0.4444444444444444,
              "#bd3786"
             ],
             [
              0.5555555555555556,
              "#d8576b"
             ],
             [
              0.6666666666666666,
              "#ed7953"
             ],
             [
              0.7777777777777778,
              "#fb9f3a"
             ],
             [
              0.8888888888888888,
              "#fdca26"
             ],
             [
              1,
              "#f0f921"
             ]
            ],
            "type": "surface"
           }
          ],
          "table": [
           {
            "cells": {
             "fill": {
              "color": "#EBF0F8"
             },
             "line": {
              "color": "white"
             }
            },
            "header": {
             "fill": {
              "color": "#C8D4E3"
             },
             "line": {
              "color": "white"
             }
            },
            "type": "table"
           }
          ]
         },
         "layout": {
          "annotationdefaults": {
           "arrowcolor": "#2a3f5f",
           "arrowhead": 0,
           "arrowwidth": 1
          },
          "autotypenumbers": "strict",
          "coloraxis": {
           "colorbar": {
            "outlinewidth": 0,
            "ticks": ""
           }
          },
          "colorscale": {
           "diverging": [
            [
             0,
             "#8e0152"
            ],
            [
             0.1,
             "#c51b7d"
            ],
            [
             0.2,
             "#de77ae"
            ],
            [
             0.3,
             "#f1b6da"
            ],
            [
             0.4,
             "#fde0ef"
            ],
            [
             0.5,
             "#f7f7f7"
            ],
            [
             0.6,
             "#e6f5d0"
            ],
            [
             0.7,
             "#b8e186"
            ],
            [
             0.8,
             "#7fbc41"
            ],
            [
             0.9,
             "#4d9221"
            ],
            [
             1,
             "#276419"
            ]
           ],
           "sequential": [
            [
             0,
             "#0d0887"
            ],
            [
             0.1111111111111111,
             "#46039f"
            ],
            [
             0.2222222222222222,
             "#7201a8"
            ],
            [
             0.3333333333333333,
             "#9c179e"
            ],
            [
             0.4444444444444444,
             "#bd3786"
            ],
            [
             0.5555555555555556,
             "#d8576b"
            ],
            [
             0.6666666666666666,
             "#ed7953"
            ],
            [
             0.7777777777777778,
             "#fb9f3a"
            ],
            [
             0.8888888888888888,
             "#fdca26"
            ],
            [
             1,
             "#f0f921"
            ]
           ],
           "sequentialminus": [
            [
             0,
             "#0d0887"
            ],
            [
             0.1111111111111111,
             "#46039f"
            ],
            [
             0.2222222222222222,
             "#7201a8"
            ],
            [
             0.3333333333333333,
             "#9c179e"
            ],
            [
             0.4444444444444444,
             "#bd3786"
            ],
            [
             0.5555555555555556,
             "#d8576b"
            ],
            [
             0.6666666666666666,
             "#ed7953"
            ],
            [
             0.7777777777777778,
             "#fb9f3a"
            ],
            [
             0.8888888888888888,
             "#fdca26"
            ],
            [
             1,
             "#f0f921"
            ]
           ]
          },
          "colorway": [
           "#636efa",
           "#EF553B",
           "#00cc96",
           "#ab63fa",
           "#FFA15A",
           "#19d3f3",
           "#FF6692",
           "#B6E880",
           "#FF97FF",
           "#FECB52"
          ],
          "font": {
           "color": "#2a3f5f"
          },
          "geo": {
           "bgcolor": "white",
           "lakecolor": "white",
           "landcolor": "#E5ECF6",
           "showlakes": true,
           "showland": true,
           "subunitcolor": "white"
          },
          "hoverlabel": {
           "align": "left"
          },
          "hovermode": "closest",
          "mapbox": {
           "style": "light"
          },
          "paper_bgcolor": "white",
          "plot_bgcolor": "#E5ECF6",
          "polar": {
           "angularaxis": {
            "gridcolor": "white",
            "linecolor": "white",
            "ticks": ""
           },
           "bgcolor": "#E5ECF6",
           "radialaxis": {
            "gridcolor": "white",
            "linecolor": "white",
            "ticks": ""
           }
          },
          "scene": {
           "xaxis": {
            "backgroundcolor": "#E5ECF6",
            "gridcolor": "white",
            "gridwidth": 2,
            "linecolor": "white",
            "showbackground": true,
            "ticks": "",
            "zerolinecolor": "white"
           },
           "yaxis": {
            "backgroundcolor": "#E5ECF6",
            "gridcolor": "white",
            "gridwidth": 2,
            "linecolor": "white",
            "showbackground": true,
            "ticks": "",
            "zerolinecolor": "white"
           },
           "zaxis": {
            "backgroundcolor": "#E5ECF6",
            "gridcolor": "white",
            "gridwidth": 2,
            "linecolor": "white",
            "showbackground": true,
            "ticks": "",
            "zerolinecolor": "white"
           }
          },
          "shapedefaults": {
           "line": {
            "color": "#2a3f5f"
           }
          },
          "ternary": {
           "aaxis": {
            "gridcolor": "white",
            "linecolor": "white",
            "ticks": ""
           },
           "baxis": {
            "gridcolor": "white",
            "linecolor": "white",
            "ticks": ""
           },
           "bgcolor": "#E5ECF6",
           "caxis": {
            "gridcolor": "white",
            "linecolor": "white",
            "ticks": ""
           }
          },
          "title": {
           "x": 0.05
          },
          "xaxis": {
           "automargin": true,
           "gridcolor": "white",
           "linecolor": "white",
           "ticks": "",
           "title": {
            "standoff": 15
           },
           "zerolinecolor": "white",
           "zerolinewidth": 2
          },
          "yaxis": {
           "automargin": true,
           "gridcolor": "white",
           "linecolor": "white",
           "ticks": "",
           "title": {
            "standoff": 15
           },
           "zerolinecolor": "white",
           "zerolinewidth": 2
          }
         }
        },
        "title": {
         "font": {
          "color": "black",
          "size": 20
         },
         "text": "Film Production Schedule",
         "x": 0.5,
         "xanchor": "center",
         "y": 0.98,
         "yanchor": "top"
        },
        "width": 1200,
        "xaxis": {
         "gridcolor": "lightgray",
         "gridwidth": 1,
         "range": [
          0,
          48
         ],
         "showgrid": true,
         "tickmode": "array",
         "ticktext": [
          "12:00 AM",
          "2:00 AM",
          "4:00 AM",
          "6:00 AM",
          "8:00 AM",
          "10:00 AM",
          "12:00 PM",
          "2:00 PM",
          "4:00 PM",
          "6:00 PM",
          "8:00 PM",
          "10:00 PM",
          "12:00 PM"
         ],
         "tickvals": [
          0,
          4,
          8,
          12,
          16,
          20,
          24,
          28,
          32,
          36,
          40,
          44,
          48
         ],
         "title": {
          "text": "Time"
         }
        },
        "yaxis": {
         "categoryarray": [
          "Makeup Artist",
          "Lighting",
          "Camera",
          "Sound"
         ],
         "categoryorder": "array",
         "title": {
          "text": "Crew"
         }
        }
       }
      }
     },
     "metadata": {},
     "output_type": "display_data"
    }
   ],
   "source": [
    "# Visualize the schedule with Plotly\n",
    "schedule_df = visualize_schedule_plotly(model, x, tasks, crews, time_slots, task_duration)"
   ]
  }
 ],
 "metadata": {
  "kernelspec": {
   "display_name": "base",
   "language": "python",
   "name": "python3"
  },
  "language_info": {
   "codemirror_mode": {
    "name": "ipython",
    "version": 3
   },
   "file_extension": ".py",
   "mimetype": "text/x-python",
   "name": "python",
   "nbconvert_exporter": "python",
   "pygments_lexer": "ipython3",
   "version": "3.11.5"
  }
 },
 "nbformat": 4,
 "nbformat_minor": 2
}
